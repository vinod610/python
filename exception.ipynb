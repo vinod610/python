{
 "cells": [
  {
   "cell_type": "code",
   "execution_count": 2,
   "metadata": {},
   "outputs": [
    {
     "name": "stdout",
     "output_type": "stream",
     "text": [
      "1\n",
      "0\n",
      "enter valid number\n",
      "2\n",
      "3\n",
      "number 3 is valid\n"
     ]
    }
   ],
   "source": [
    "import sys\n",
    "list=[1,0,2,3]\n",
    "for e in list:\n",
    "    try:\n",
    "        print(e)\n",
    "        r=1/e\n",
    "    except:\n",
    "        print(\"enter valid number\")\n",
    "        \n",
    "print(\"number {0} is valid\".format(e))\n",
    "        \n",
    "    "
   ]
  },
  {
   "cell_type": "code",
   "execution_count": 7,
   "metadata": {},
   "outputs": [
    {
     "name": "stdout",
     "output_type": "stream",
     "text": [
      "enetr number\n",
      "enter valid number\n",
      "0.3333333333333333\n"
     ]
    }
   ],
   "source": [
    "import sys\n",
    "lis=['b',0,3]\n",
    "for k in lis:\n",
    "    try:\n",
    "        h=1/int(k)\n",
    "        print(h)\n",
    "    except(ValueError):\n",
    "        print(\"enetr number\")\n",
    "    except(ZeroDivisionError):\n",
    "        print('enter valid number')\n",
    "        "
   ]
  },
  {
   "cell_type": "code",
   "execution_count": null,
   "metadata": {},
   "outputs": [],
   "source": [
    "import sys\n",
    "try:\n",
    "    num=int(input(\"enter the number:\"))\n",
    "    if num<=0:\n",
    "        raise ValueError(\"error: enter positive number\")\n",
    "except ValueError as e:\n",
    "    print(e)"
   ]
  },
  {
   "cell_type": "code",
   "execution_count": null,
   "metadata": {},
   "outputs": [],
   "source": [
    "import sys\n",
    "try:\n",
    "    num1=int(input(\"enter the number\"))\n",
    "    #t = 1/num\n",
    "    if num==0:\n",
    "        raise ZeroDivisionError(\"enter number greater thsan0\")\n",
    "except ZeroDivisionError as e:\n",
    "    print(e)"
   ]
  },
  {
   "cell_type": "code",
   "execution_count": null,
   "metadata": {},
   "outputs": [
    {
     "name": "stdout",
     "output_type": "stream",
     "text": [
      "> <ipython-input-1-b6d48d453e83>(6)seq()\n",
      "-> print(n)\n",
      "(Pdb) list\n",
      "  1  \timport pdb\n",
      "  2  \tdef seq(n):\n",
      "  3  \t    for i in range(n):\n",
      "  4  \t\n",
      "  5  \t        pdb.set_trace()\n",
      "  6  ->\t        print(n)\n",
      "  7  \tseq(5)\n",
      "[EOF]\n",
      "(Pdb) p n\n",
      "5\n",
      "(Pdb) p i\n",
      "0\n",
      "(Pdb) p locals()\n",
      "{'n': 5, 'i': 0}\n",
      "(Pdb) c\n",
      "5\n",
      "> <ipython-input-1-b6d48d453e83>(5)seq()\n",
      "-> pdb.set_trace()\n",
      "(Pdb) list\n",
      "  1  \timport pdb\n",
      "  2  \tdef seq(n):\n",
      "  3  \t    for i in range(n):\n",
      "  4  \t\n",
      "  5  ->\t        pdb.set_trace()\n",
      "  6  \t        print(n)\n",
      "  7  \tseq(5)\n",
      "[EOF]\n",
      "(Pdb) p i\n",
      "1\n",
      "(Pdb) p n\n",
      "5\n",
      "(Pdb) p locals()\n",
      "{'n': 5, 'i': 1}\n",
      "(Pdb) p globals()\n",
      "{'__name__': '__main__', '__doc__': 'Automatically created module for IPython interactive environment', '__package__': None, '__loader__': None, '__spec__': None, '__builtin__': <module 'builtins' (built-in)>, '__builtins__': <module 'builtins' (built-in)>, '_ih': ['', 'import pdb\\ndef seq(n):\\n    for i in range(n):\\n        \\n        pdb.set_trace()\\n        print(n)\\nseq(5)    '], '_oh': {}, '_dh': ['C:\\\\Users\\\\ReddyReddy\\\\Untitled Folder'], 'In': ['', 'import pdb\\ndef seq(n):\\n    for i in range(n):\\n        \\n        pdb.set_trace()\\n        print(n)\\nseq(5)    '], 'Out': {}, 'get_ipython': <bound method InteractiveShell.get_ipython of <ipykernel.zmqshell.ZMQInteractiveShell object at 0x00000255E239CB48>>, 'exit': <IPython.core.autocall.ZMQExitAutocall object at 0x00000255E245A048>, 'quit': <IPython.core.autocall.ZMQExitAutocall object at 0x00000255E245A048>, '_': '', '__': '', '___': '', '_i': '', '_ii': '', '_iii': '', '_i1': 'import pdb\\ndef seq(n):\\n    for i in range(n):\\n        \\n        pdb.set_trace()\\n        print(n)\\nseq(5)    ', 'pdb': <module 'pdb' from 'C:\\\\Users\\\\ReddyReddy\\\\Anaconda3\\\\lib\\\\pdb.py'>, 'seq': <function seq at 0x00000255E2555A68>}\n"
     ]
    }
   ],
   "source": [
    "import pdb\n",
    "def seq(n):\n",
    "    for i in range(n):\n",
    "        \n",
    "        pdb.set_trace()\n",
    "        print(n)\n",
    "seq(5)    "
   ]
  }
 ],
 "metadata": {
  "kernelspec": {
   "display_name": "Python 3",
   "language": "python",
   "name": "python3"
  },
  "language_info": {
   "codemirror_mode": {
    "name": "ipython",
    "version": 3
   },
   "file_extension": ".py",
   "mimetype": "text/x-python",
   "name": "python",
   "nbconvert_exporter": "python",
   "pygments_lexer": "ipython3",
   "version": "3.7.4"
  }
 },
 "nbformat": 4,
 "nbformat_minor": 2
}
