{
 "cells": [
  {
   "cell_type": "code",
   "execution_count": 42,
   "metadata": {},
   "outputs": [
    {
     "data": {
      "image/png": "[encoded data removed]",
      "text/plain": [
       "<Figure size 432x288 with 3 Axes>"
      ]
     },
     "metadata": {
      "needs_background": "light"
     },
     "output_type": "display_data"
    },
    {
     "name": "stdout",
     "output_type": "stream",
     "text": [
      " percentiles of x is 123.0 and 124.8\n",
      "0.0 0.47107438016528924\n",
      "123.0 123.0\n"
     ]
    }
   ],
   "source": [
    "import numpy as np\n",
    "from sklearn.utils import resample\n",
    "from sklearn.metrics import accuracy_score\n",
    "from matplotlib import pyplot\n",
    "x=np.array([123,123,123,123,123,123,125,123,123,123,123,123,123,123,123,123,123,123,123,123,123,123])\n",
    "n_iterations = 1000\n",
    "n_size= int(len(x))\n",
    "medians= list([])\n",
    "variance=list()\n",
    "percentiles= list()\n",
    "for i in range(n_iterations):\n",
    "    s=resample(x,n_samples=n_size)\n",
    "    m=np.median(s)\n",
    "    v=np.var(s)\n",
    "    per = np.percentile(s,90)\n",
    "    percentiles.append(per)\n",
    "    variance.append(v)\n",
    "    medians.append(m)\n",
    "    \n",
    "pyplot.figure()\n",
    "pyplot.subplot(3,1,1)\n",
    "pyplot.title(\"medians\")\n",
    "pyplot.hist(medians)\n",
    "pyplot.grid()\n",
    "pyplot.subplot(3,1,2)\n",
    "pyplot.title(\"variance\")\n",
    "pyplot.hist(variance)\n",
    "pyplot.grid()\n",
    "pyplot.subplot(3,1,3)\n",
    "pyplot.title(\"percentiles\")\n",
    "pyplot.hist(percentiles)\n",
    "pyplot.grid()\n",
    "pyplot.show()\n",
    "\n",
    "\n",
    "alpha=0.95\n",
    "alpha1=0.90\n",
    "p1=((1-alpha1)/2)*100\n",
    "lower2 = np.percentile(percentiles,p1)\n",
    "p1= (alpha1+((1-alpha1)/2))*100\n",
    "upper2 = np.percentile(percentiles,p1)\n",
    "print(' percentiles of x is %.1f and %.1f'  %(lower2 ,upper2))\n",
    "v1 =((1-alpha)/2)*100\n",
    "lower1 = np.percentile(variance,v1)\n",
    "v1=(alpha+((1-alpha)/2))*100\n",
    "upper1 = np.percentile(variance,v1)\n",
    "print(lower1, upper1)\n",
    "p=((1-alpha)/2)*100\n",
    "lower = np.percentile(medians,p)\n",
    "p= (alpha+((1-alpha)/2))*100\n",
    "upper = np.percentile(medians,p)\n",
    "print(lower,upper)\n"
   ]
  },
  {
   "cell_type": "code",
   "execution_count": null,
   "metadata": {},
   "outputs": [],
   "source": []
  }
 ],
 "metadata": {
  "kernelspec": {
   "display_name": "Python 3",
   "language": "python",
   "name": "python3"
  },
  "language_info": {
   "codemirror_mode": {
    "name": "ipython",
    "version": 3
   },
   "file_extension": ".py",
   "mimetype": "text/x-python",
   "name": "python",
   "nbconvert_exporter": "python",
   "pygments_lexer": "ipython3",
   "version": "3.7.4"
  }
 },
 "nbformat": 4,
 "nbformat_minor": 2
}
